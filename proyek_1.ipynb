{
  "nbformat": 4,
  "nbformat_minor": 0,
  "metadata": {
    "colab": {
      "name": "proyek_1.ipynb",
      "provenance": []
    },
    "kernelspec": {
      "name": "python3",
      "display_name": "Python 3"
    },
    "language_info": {
      "name": "python"
    }
  },
  "cells": [
    {
      "cell_type": "markdown",
      "source": [
        "# **Proyek 1 Predictive Analytics**"
      ],
      "metadata": {
        "id": "z2yfS-uOp2yk"
      }
    },
    {
      "cell_type": "markdown",
      "source": [
        "## **Data Preparation**"
      ],
      "metadata": {
        "id": "gTaOznGVqKC2"
      }
    },
    {
      "cell_type": "markdown",
      "source": [
        "Import seluruh library yang dibutuhkan"
      ],
      "metadata": {
        "id": "Bzjs9Hb6qSuz"
      }
    },
    {
      "cell_type": "code",
      "execution_count": 1,
      "metadata": {
        "id": "RllVItUzpqLD"
      },
      "outputs": [],
      "source": [
        "import numpy as np\n",
        "import matplotlib.pyplot as plt\n",
        "import pandas as pd\n",
        "from sklearn.preprocessing import OneHotEncoder\n",
        "import tensorflow as tf\n",
        "from tensorflow import keras\n",
        "from keras.models import Sequential\n",
        "from keras.layers import Dense"
      ]
    },
    {
      "cell_type": "markdown",
      "source": [
        "Tarik dataset StudentPerformance.csv ke direktory google collab lalu gunakan pandas untuk mengubahnya menjadi dataframe.\n",
        "Info dataset ditampilkan sebagai berikut."
      ],
      "metadata": {
        "id": "DWL4bM67p2BH"
      }
    },
    {
      "cell_type": "code",
      "source": [
        "df = pd.read_csv('/content/StudentsPerformance.csv')\n",
        "df.info()"
      ],
      "metadata": {
        "colab": {
          "base_uri": "https://localhost:8080/"
        },
        "id": "gI5qu4LQqcZc",
        "outputId": "476f3a30-15cf-4606-bddb-9c8b84164324"
      },
      "execution_count": 2,
      "outputs": [
        {
          "output_type": "stream",
          "name": "stdout",
          "text": [
            "<class 'pandas.core.frame.DataFrame'>\n",
            "RangeIndex: 1000 entries, 0 to 999\n",
            "Data columns (total 8 columns):\n",
            " #   Column                       Non-Null Count  Dtype \n",
            "---  ------                       --------------  ----- \n",
            " 0   gender                       1000 non-null   object\n",
            " 1   race/ethnicity               1000 non-null   object\n",
            " 2   parental level of education  1000 non-null   object\n",
            " 3   lunch                        1000 non-null   object\n",
            " 4   test preparation course      1000 non-null   object\n",
            " 5   math score                   1000 non-null   int64 \n",
            " 6   reading score                1000 non-null   int64 \n",
            " 7   writing score                1000 non-null   int64 \n",
            "dtypes: int64(3), object(5)\n",
            "memory usage: 62.6+ KB\n"
          ]
        }
      ]
    },
    {
      "cell_type": "markdown",
      "source": [
        "Menampilkan kategori apa saja yang terdapat dalam kolom-kolom non numerik value"
      ],
      "metadata": {
        "id": "45ukxrt_sH0f"
      }
    },
    {
      "cell_type": "code",
      "source": [
        "df"
      ],
      "metadata": {
        "colab": {
          "base_uri": "https://localhost:8080/",
          "height": 485
        },
        "id": "uoHM6ky8sllD",
        "outputId": "e3607f9a-f1d6-4e6d-b572-8e87612e4d02"
      },
      "execution_count": 3,
      "outputs": [
        {
          "output_type": "execute_result",
          "data": {
            "text/plain": [
              "     gender race/ethnicity parental level of education         lunch  \\\n",
              "0    female        group B           bachelor's degree      standard   \n",
              "1    female        group C                some college      standard   \n",
              "2    female        group B             master's degree      standard   \n",
              "3      male        group A          associate's degree  free/reduced   \n",
              "4      male        group C                some college      standard   \n",
              "..      ...            ...                         ...           ...   \n",
              "995  female        group E             master's degree      standard   \n",
              "996    male        group C                 high school  free/reduced   \n",
              "997  female        group C                 high school  free/reduced   \n",
              "998  female        group D                some college      standard   \n",
              "999  female        group D                some college  free/reduced   \n",
              "\n",
              "    test preparation course  math score  reading score  writing score  \n",
              "0                      none          72             72             74  \n",
              "1                 completed          69             90             88  \n",
              "2                      none          90             95             93  \n",
              "3                      none          47             57             44  \n",
              "4                      none          76             78             75  \n",
              "..                      ...         ...            ...            ...  \n",
              "995               completed          88             99             95  \n",
              "996                    none          62             55             55  \n",
              "997               completed          59             71             65  \n",
              "998               completed          68             78             77  \n",
              "999                    none          77             86             86  \n",
              "\n",
              "[1000 rows x 8 columns]"
            ],
            "text/html": [
              "\n",
              "  <div id=\"df-18ccbdbb-62b6-4ad8-8235-11a9ce3ab5e0\">\n",
              "    <div class=\"colab-df-container\">\n",
              "      <div>\n",
              "<style scoped>\n",
              "    .dataframe tbody tr th:only-of-type {\n",
              "        vertical-align: middle;\n",
              "    }\n",
              "\n",
              "    .dataframe tbody tr th {\n",
              "        vertical-align: top;\n",
              "    }\n",
              "\n",
              "    .dataframe thead th {\n",
              "        text-align: right;\n",
              "    }\n",
              "</style>\n",
              "<table border=\"1\" class=\"dataframe\">\n",
              "  <thead>\n",
              "    <tr style=\"text-align: right;\">\n",
              "      <th></th>\n",
              "      <th>gender</th>\n",
              "      <th>race/ethnicity</th>\n",
              "      <th>parental level of education</th>\n",
              "      <th>lunch</th>\n",
              "      <th>test preparation course</th>\n",
              "      <th>math score</th>\n",
              "      <th>reading score</th>\n",
              "      <th>writing score</th>\n",
              "    </tr>\n",
              "  </thead>\n",
              "  <tbody>\n",
              "    <tr>\n",
              "      <th>0</th>\n",
              "      <td>female</td>\n",
              "      <td>group B</td>\n",
              "      <td>bachelor's degree</td>\n",
              "      <td>standard</td>\n",
              "      <td>none</td>\n",
              "      <td>72</td>\n",
              "      <td>72</td>\n",
              "      <td>74</td>\n",
              "    </tr>\n",
              "    <tr>\n",
              "      <th>1</th>\n",
              "      <td>female</td>\n",
              "      <td>group C</td>\n",
              "      <td>some college</td>\n",
              "      <td>standard</td>\n",
              "      <td>completed</td>\n",
              "      <td>69</td>\n",
              "      <td>90</td>\n",
              "      <td>88</td>\n",
              "    </tr>\n",
              "    <tr>\n",
              "      <th>2</th>\n",
              "      <td>female</td>\n",
              "      <td>group B</td>\n",
              "      <td>master's degree</td>\n",
              "      <td>standard</td>\n",
              "      <td>none</td>\n",
              "      <td>90</td>\n",
              "      <td>95</td>\n",
              "      <td>93</td>\n",
              "    </tr>\n",
              "    <tr>\n",
              "      <th>3</th>\n",
              "      <td>male</td>\n",
              "      <td>group A</td>\n",
              "      <td>associate's degree</td>\n",
              "      <td>free/reduced</td>\n",
              "      <td>none</td>\n",
              "      <td>47</td>\n",
              "      <td>57</td>\n",
              "      <td>44</td>\n",
              "    </tr>\n",
              "    <tr>\n",
              "      <th>4</th>\n",
              "      <td>male</td>\n",
              "      <td>group C</td>\n",
              "      <td>some college</td>\n",
              "      <td>standard</td>\n",
              "      <td>none</td>\n",
              "      <td>76</td>\n",
              "      <td>78</td>\n",
              "      <td>75</td>\n",
              "    </tr>\n",
              "    <tr>\n",
              "      <th>...</th>\n",
              "      <td>...</td>\n",
              "      <td>...</td>\n",
              "      <td>...</td>\n",
              "      <td>...</td>\n",
              "      <td>...</td>\n",
              "      <td>...</td>\n",
              "      <td>...</td>\n",
              "      <td>...</td>\n",
              "    </tr>\n",
              "    <tr>\n",
              "      <th>995</th>\n",
              "      <td>female</td>\n",
              "      <td>group E</td>\n",
              "      <td>master's degree</td>\n",
              "      <td>standard</td>\n",
              "      <td>completed</td>\n",
              "      <td>88</td>\n",
              "      <td>99</td>\n",
              "      <td>95</td>\n",
              "    </tr>\n",
              "    <tr>\n",
              "      <th>996</th>\n",
              "      <td>male</td>\n",
              "      <td>group C</td>\n",
              "      <td>high school</td>\n",
              "      <td>free/reduced</td>\n",
              "      <td>none</td>\n",
              "      <td>62</td>\n",
              "      <td>55</td>\n",
              "      <td>55</td>\n",
              "    </tr>\n",
              "    <tr>\n",
              "      <th>997</th>\n",
              "      <td>female</td>\n",
              "      <td>group C</td>\n",
              "      <td>high school</td>\n",
              "      <td>free/reduced</td>\n",
              "      <td>completed</td>\n",
              "      <td>59</td>\n",
              "      <td>71</td>\n",
              "      <td>65</td>\n",
              "    </tr>\n",
              "    <tr>\n",
              "      <th>998</th>\n",
              "      <td>female</td>\n",
              "      <td>group D</td>\n",
              "      <td>some college</td>\n",
              "      <td>standard</td>\n",
              "      <td>completed</td>\n",
              "      <td>68</td>\n",
              "      <td>78</td>\n",
              "      <td>77</td>\n",
              "    </tr>\n",
              "    <tr>\n",
              "      <th>999</th>\n",
              "      <td>female</td>\n",
              "      <td>group D</td>\n",
              "      <td>some college</td>\n",
              "      <td>free/reduced</td>\n",
              "      <td>none</td>\n",
              "      <td>77</td>\n",
              "      <td>86</td>\n",
              "      <td>86</td>\n",
              "    </tr>\n",
              "  </tbody>\n",
              "</table>\n",
              "<p>1000 rows × 8 columns</p>\n",
              "</div>\n",
              "      <button class=\"colab-df-convert\" onclick=\"convertToInteractive('df-18ccbdbb-62b6-4ad8-8235-11a9ce3ab5e0')\"\n",
              "              title=\"Convert this dataframe to an interactive table.\"\n",
              "              style=\"display:none;\">\n",
              "        \n",
              "  <svg xmlns=\"http://www.w3.org/2000/svg\" height=\"24px\"viewBox=\"0 0 24 24\"\n",
              "       width=\"24px\">\n",
              "    <path d=\"M0 0h24v24H0V0z\" fill=\"none\"/>\n",
              "    <path d=\"M18.56 5.44l.94 2.06.94-2.06 2.06-.94-2.06-.94-.94-2.06-.94 2.06-2.06.94zm-11 1L8.5 8.5l.94-2.06 2.06-.94-2.06-.94L8.5 2.5l-.94 2.06-2.06.94zm10 10l.94 2.06.94-2.06 2.06-.94-2.06-.94-.94-2.06-.94 2.06-2.06.94z\"/><path d=\"M17.41 7.96l-1.37-1.37c-.4-.4-.92-.59-1.43-.59-.52 0-1.04.2-1.43.59L10.3 9.45l-7.72 7.72c-.78.78-.78 2.05 0 2.83L4 21.41c.39.39.9.59 1.41.59.51 0 1.02-.2 1.41-.59l7.78-7.78 2.81-2.81c.8-.78.8-2.07 0-2.86zM5.41 20L4 18.59l7.72-7.72 1.47 1.35L5.41 20z\"/>\n",
              "  </svg>\n",
              "      </button>\n",
              "      \n",
              "  <style>\n",
              "    .colab-df-container {\n",
              "      display:flex;\n",
              "      flex-wrap:wrap;\n",
              "      gap: 12px;\n",
              "    }\n",
              "\n",
              "    .colab-df-convert {\n",
              "      background-color: #E8F0FE;\n",
              "      border: none;\n",
              "      border-radius: 50%;\n",
              "      cursor: pointer;\n",
              "      display: none;\n",
              "      fill: #1967D2;\n",
              "      height: 32px;\n",
              "      padding: 0 0 0 0;\n",
              "      width: 32px;\n",
              "    }\n",
              "\n",
              "    .colab-df-convert:hover {\n",
              "      background-color: #E2EBFA;\n",
              "      box-shadow: 0px 1px 2px rgba(60, 64, 67, 0.3), 0px 1px 3px 1px rgba(60, 64, 67, 0.15);\n",
              "      fill: #174EA6;\n",
              "    }\n",
              "\n",
              "    [theme=dark] .colab-df-convert {\n",
              "      background-color: #3B4455;\n",
              "      fill: #D2E3FC;\n",
              "    }\n",
              "\n",
              "    [theme=dark] .colab-df-convert:hover {\n",
              "      background-color: #434B5C;\n",
              "      box-shadow: 0px 1px 3px 1px rgba(0, 0, 0, 0.15);\n",
              "      filter: drop-shadow(0px 1px 2px rgba(0, 0, 0, 0.3));\n",
              "      fill: #FFFFFF;\n",
              "    }\n",
              "  </style>\n",
              "\n",
              "      <script>\n",
              "        const buttonEl =\n",
              "          document.querySelector('#df-18ccbdbb-62b6-4ad8-8235-11a9ce3ab5e0 button.colab-df-convert');\n",
              "        buttonEl.style.display =\n",
              "          google.colab.kernel.accessAllowed ? 'block' : 'none';\n",
              "\n",
              "        async function convertToInteractive(key) {\n",
              "          const element = document.querySelector('#df-18ccbdbb-62b6-4ad8-8235-11a9ce3ab5e0');\n",
              "          const dataTable =\n",
              "            await google.colab.kernel.invokeFunction('convertToInteractive',\n",
              "                                                     [key], {});\n",
              "          if (!dataTable) return;\n",
              "\n",
              "          const docLinkHtml = 'Like what you see? Visit the ' +\n",
              "            '<a target=\"_blank\" href=https://colab.research.google.com/notebooks/data_table.ipynb>data table notebook</a>'\n",
              "            + ' to learn more about interactive tables.';\n",
              "          element.innerHTML = '';\n",
              "          dataTable['output_type'] = 'display_data';\n",
              "          await google.colab.output.renderOutput(dataTable, element);\n",
              "          const docLink = document.createElement('div');\n",
              "          docLink.innerHTML = docLinkHtml;\n",
              "          element.appendChild(docLink);\n",
              "        }\n",
              "      </script>\n",
              "    </div>\n",
              "  </div>\n",
              "  "
            ]
          },
          "metadata": {},
          "execution_count": 3
        }
      ]
    },
    {
      "cell_type": "code",
      "source": [
        "df['gender'].value_counts().plot.pie()"
      ],
      "metadata": {
        "colab": {
          "base_uri": "https://localhost:8080/",
          "height": 265
        },
        "id": "NnIGnGlzuYvj",
        "outputId": "46deea65-314c-4138-c6f6-c92446c87137"
      },
      "execution_count": 4,
      "outputs": [
        {
          "output_type": "execute_result",
          "data": {
            "text/plain": [
              "<matplotlib.axes._subplots.AxesSubplot at 0x7f67ab39c790>"
            ]
          },
          "metadata": {},
          "execution_count": 4
        },
        {
          "output_type": "display_data",
          "data": {
            "text/plain": [
              "<Figure size 432x288 with 1 Axes>"
            ],
            "image/png": "[encoded data removed]"
          },
          "metadata": {}
        }
      ]
    },
    {
      "cell_type": "code",
      "source": [
        "df['race/ethnicity'].value_counts().plot.pie()\n"
      ],
      "metadata": {
        "colab": {
          "base_uri": "https://localhost:8080/",
          "height": 265
        },
        "id": "9UnG8V7rt--M",
        "outputId": "e4da34ab-8e7b-45d4-f05c-cfcbf3218093"
      },
      "execution_count": 5,
      "outputs": [
        {
          "output_type": "execute_result",
          "data": {
            "text/plain": [
              "<matplotlib.axes._subplots.AxesSubplot at 0x7f67ab2ccc90>"
            ]
          },
          "metadata": {},
          "execution_count": 5
        },
        {
          "output_type": "display_data",
          "data": {
            "text/plain": [
              "<Figure size 432x288 with 1 Axes>"
            ],
            "image/png": "[encoded data removed]"
          },
          "metadata": {}
        }
      ]
    },
    {
      "cell_type": "code",
      "source": [
        "df['parental level of education'].value_counts().plot.pie()"
      ],
      "metadata": {
        "colab": {
          "base_uri": "https://localhost:8080/",
          "height": 265
        },
        "id": "ym2teiz0zvRw",
        "outputId": "ed2529b9-3a40-41ea-c167-b8ccdb9c7d3f"
      },
      "execution_count": 6,
      "outputs": [
        {
          "output_type": "execute_result",
          "data": {
            "text/plain": [
              "<matplotlib.axes._subplots.AxesSubplot at 0x7f67aae65b90>"
            ]
          },
          "metadata": {},
          "execution_count": 6
        },
        {
          "output_type": "display_data",
          "data": {
            "text/plain": [
              "<Figure size 432x288 with 1 Axes>"
            ],
            "image/png": "[encoded data removed]"
          },
          "metadata": {}
        }
      ]
    },
    {
      "cell_type": "code",
      "source": [
        "df['lunch'].value_counts().plot.pie()"
      ],
      "metadata": {
        "colab": {
          "base_uri": "https://localhost:8080/",
          "height": 265
        },
        "id": "sq6Ud3Loz4FS",
        "outputId": "8fce9f47-989d-4a16-f340-45cbfb76875c"
      },
      "execution_count": 7,
      "outputs": [
        {
          "output_type": "execute_result",
          "data": {
            "text/plain": [
              "<matplotlib.axes._subplots.AxesSubplot at 0x7f67aadcc350>"
            ]
          },
          "metadata": {},
          "execution_count": 7
        },
        {
          "output_type": "display_data",
          "data": {
            "text/plain": [
              "<Figure size 432x288 with 1 Axes>"
            ],
            "image/png": "[encoded data removed]"
          },
          "metadata": {}
        }
      ]
    },
    {
      "cell_type": "code",
      "source": [
        "df['test preparation course'].value_counts().plot.pie()"
      ],
      "metadata": {
        "colab": {
          "base_uri": "https://localhost:8080/",
          "height": 265
        },
        "id": "Ge0p7cdnz9FI",
        "outputId": "c1359fee-6bf2-4f45-e7f5-99e6cce24ab5"
      },
      "execution_count": 8,
      "outputs": [
        {
          "output_type": "execute_result",
          "data": {
            "text/plain": [
              "<matplotlib.axes._subplots.AxesSubplot at 0x7f67aad989d0>"
            ]
          },
          "metadata": {},
          "execution_count": 8
        },
        {
          "output_type": "display_data",
          "data": {
            "text/plain": [
              "<Figure size 432x288 with 1 Axes>"
            ],
            "image/png": "[encoded data removed]"
          },
          "metadata": {}
        }
      ]
    },
    {
      "cell_type": "code",
      "source": [
        "import seaborn as sns\n",
        "sns.boxplot(df['math score'])"
      ],
      "metadata": {
        "colab": {
          "base_uri": "https://localhost:8080/",
          "height": 351
        },
        "id": "P3rYZG2nlbJo",
        "outputId": "31d31188-3f37-4cf2-d8bd-a73813228c63"
      },
      "execution_count": 9,
      "outputs": [
        {
          "output_type": "stream",
          "name": "stderr",
          "text": [
            "/usr/local/lib/python3.7/dist-packages/seaborn/_decorators.py:43: FutureWarning: Pass the following variable as a keyword arg: x. From version 0.12, the only valid positional argument will be `data`, and passing other arguments without an explicit keyword will result in an error or misinterpretation.\n",
            "  FutureWarning\n"
          ]
        },
        {
          "output_type": "execute_result",
          "data": {
            "text/plain": [
              "<matplotlib.axes._subplots.AxesSubplot at 0x7f67aa533190>"
            ]
          },
          "metadata": {},
          "execution_count": 9
        },
        {
          "output_type": "display_data",
          "data": {
            "text/plain": [
              "<Figure size 432x288 with 1 Axes>"
            ],
            "image/png": "[encoded data removed]"
          },
          "metadata": {
            "needs_background": "light"
          }
        }
      ]
    },
    {
      "cell_type": "code",
      "source": [
        "df['math score'].value_counts().sort_index().plot()"
      ],
      "metadata": {
        "colab": {
          "base_uri": "https://localhost:8080/",
          "height": 282
        },
        "id": "bsUg_3_B5A1X",
        "outputId": "90ae7744-6bee-4f35-d697-b136a2151958"
      },
      "execution_count": 10,
      "outputs": [
        {
          "output_type": "execute_result",
          "data": {
            "text/plain": [
              "<matplotlib.axes._subplots.AxesSubplot at 0x7f67aa43fc50>"
            ]
          },
          "metadata": {},
          "execution_count": 10
        },
        {
          "output_type": "display_data",
          "data": {
            "text/plain": [
              "<Figure size 432x288 with 1 Axes>"
            ],
            "image/png": "[encoded data removed]"
          },
          "metadata": {
            "needs_background": "light"
          }
        }
      ]
    },
    {
      "cell_type": "code",
      "source": [
        "df['reading score'].value_counts().sort_index().plot()"
      ],
      "metadata": {
        "colab": {
          "base_uri": "https://localhost:8080/",
          "height": 282
        },
        "id": "8CbQ8Ktn5vph",
        "outputId": "4d499807-8b0b-472a-d85a-74d7d905208b"
      },
      "execution_count": 11,
      "outputs": [
        {
          "output_type": "execute_result",
          "data": {
            "text/plain": [
              "<matplotlib.axes._subplots.AxesSubplot at 0x7f67aa3baf50>"
            ]
          },
          "metadata": {},
          "execution_count": 11
        },
        {
          "output_type": "display_data",
          "data": {
            "text/plain": [
              "<Figure size 432x288 with 1 Axes>"
            ],
            "image/png": "[encoded data removed]"
          },
          "metadata": {
            "needs_background": "light"
          }
        }
      ]
    },
    {
      "cell_type": "code",
      "source": [
        "sns.boxplot(df['reading score'])"
      ],
      "metadata": {
        "colab": {
          "base_uri": "https://localhost:8080/",
          "height": 351
        },
        "id": "jT_Iru7QmbCe",
        "outputId": "8da51670-bf8a-4ac6-842f-13c65e80d739"
      },
      "execution_count": 12,
      "outputs": [
        {
          "output_type": "stream",
          "name": "stderr",
          "text": [
            "/usr/local/lib/python3.7/dist-packages/seaborn/_decorators.py:43: FutureWarning: Pass the following variable as a keyword arg: x. From version 0.12, the only valid positional argument will be `data`, and passing other arguments without an explicit keyword will result in an error or misinterpretation.\n",
            "  FutureWarning\n"
          ]
        },
        {
          "output_type": "execute_result",
          "data": {
            "text/plain": [
              "<matplotlib.axes._subplots.AxesSubplot at 0x7f67aa3aa3d0>"
            ]
          },
          "metadata": {},
          "execution_count": 12
        },
        {
          "output_type": "display_data",
          "data": {
            "text/plain": [
              "<Figure size 432x288 with 1 Axes>"
            ],
            "image/png": "[encoded data removed]"
          },
          "metadata": {
            "needs_background": "light"
          }
        }
      ]
    },
    {
      "cell_type": "code",
      "source": [
        "df['writing score'].value_counts().sort_index().plot()"
      ],
      "metadata": {
        "colab": {
          "base_uri": "https://localhost:8080/",
          "height": 282
        },
        "id": "M5tqyZty531Q",
        "outputId": "0ee2225e-0782-4799-e190-db4d2706978a"
      },
      "execution_count": 13,
      "outputs": [
        {
          "output_type": "execute_result",
          "data": {
            "text/plain": [
              "<matplotlib.axes._subplots.AxesSubplot at 0x7f67aa3110d0>"
            ]
          },
          "metadata": {},
          "execution_count": 13
        },
        {
          "output_type": "display_data",
          "data": {
            "text/plain": [
              "<Figure size 432x288 with 1 Axes>"
            ],
            "image/png": "[encoded data removed]"
          },
          "metadata": {
            "needs_background": "light"
          }
        }
      ]
    },
    {
      "cell_type": "code",
      "source": [
        "sns.boxplot(df['writing score'])"
      ],
      "metadata": {
        "colab": {
          "base_uri": "https://localhost:8080/",
          "height": 351
        },
        "id": "i1pGf-wrmeEB",
        "outputId": "2f1f5c32-c8ab-4442-d718-5e1457a112c2"
      },
      "execution_count": 14,
      "outputs": [
        {
          "output_type": "stream",
          "name": "stderr",
          "text": [
            "/usr/local/lib/python3.7/dist-packages/seaborn/_decorators.py:43: FutureWarning: Pass the following variable as a keyword arg: x. From version 0.12, the only valid positional argument will be `data`, and passing other arguments without an explicit keyword will result in an error or misinterpretation.\n",
            "  FutureWarning\n"
          ]
        },
        {
          "output_type": "execute_result",
          "data": {
            "text/plain": [
              "<matplotlib.axes._subplots.AxesSubplot at 0x7f67aa290ad0>"
            ]
          },
          "metadata": {},
          "execution_count": 14
        },
        {
          "output_type": "display_data",
          "data": {
            "text/plain": [
              "<Figure size 432x288 with 1 Axes>"
            ],
            "image/png": "[encoded data removed]"
          },
          "metadata": {
            "needs_background": "light"
          }
        }
      ]
    },
    {
      "cell_type": "code",
      "source": [
        "Q1 = df.quantile(0.25)\n",
        "Q3 = df.quantile(0.75)\n",
        "IQR=Q3-Q1\n",
        "df=df[~((df<(Q1-1.5*IQR))|(df>(Q3+1.5*IQR))).any(axis=1)]\n",
        " \n",
        "# Cek ukuran dataset setelah kita drop outliers\n",
        "df.shape"
      ],
      "metadata": {
        "colab": {
          "base_uri": "https://localhost:8080/"
        },
        "id": "KxleSkBdnKg9",
        "outputId": "9c747c67-4594-45f3-c7ca-5ddb02d4090e"
      },
      "execution_count": 15,
      "outputs": [
        {
          "output_type": "stream",
          "name": "stderr",
          "text": [
            "/usr/local/lib/python3.7/dist-packages/ipykernel_launcher.py:4: FutureWarning: Automatic reindexing on DataFrame vs Series comparisons is deprecated and will raise ValueError in a future version.  Do `left, right = left.align(right, axis=1, copy=False)` before e.g. `left == right`\n",
            "  after removing the cwd from sys.path.\n"
          ]
        },
        {
          "output_type": "execute_result",
          "data": {
            "text/plain": [
              "(988, 8)"
            ]
          },
          "metadata": {},
          "execution_count": 15
        }
      ]
    },
    {
      "cell_type": "code",
      "source": [
        "df.info()"
      ],
      "metadata": {
        "colab": {
          "base_uri": "https://localhost:8080/"
        },
        "id": "Ndu3zK80nUEi",
        "outputId": "9d5a7900-a7ee-4f48-8cd3-944b133d3804"
      },
      "execution_count": 16,
      "outputs": [
        {
          "output_type": "stream",
          "name": "stdout",
          "text": [
            "<class 'pandas.core.frame.DataFrame'>\n",
            "Int64Index: 988 entries, 0 to 999\n",
            "Data columns (total 8 columns):\n",
            " #   Column                       Non-Null Count  Dtype \n",
            "---  ------                       --------------  ----- \n",
            " 0   gender                       988 non-null    object\n",
            " 1   race/ethnicity               988 non-null    object\n",
            " 2   parental level of education  988 non-null    object\n",
            " 3   lunch                        988 non-null    object\n",
            " 4   test preparation course      988 non-null    object\n",
            " 5   math score                   988 non-null    int64 \n",
            " 6   reading score                988 non-null    int64 \n",
            " 7   writing score                988 non-null    int64 \n",
            "dtypes: int64(3), object(5)\n",
            "memory usage: 69.5+ KB\n"
          ]
        }
      ]
    },
    {
      "cell_type": "code",
      "source": [
        "for i in df.columns[0:5]:\n",
        "  print(i)\n",
        "  print(set(df[i]))"
      ],
      "metadata": {
        "colab": {
          "base_uri": "https://localhost:8080/"
        },
        "id": "jFylIfd_qv27",
        "outputId": "a3981c7e-6475-48f7-955e-db94c3d200a4"
      },
      "execution_count": 17,
      "outputs": [
        {
          "output_type": "stream",
          "name": "stdout",
          "text": [
            "gender\n",
            "{'male', 'female'}\n",
            "race/ethnicity\n",
            "{'group B', 'group C', 'group A', 'group E', 'group D'}\n",
            "parental level of education\n",
            "{'high school', 'some high school', \"bachelor's degree\", \"master's degree\", \"associate's degree\", 'some college'}\n",
            "lunch\n",
            "{'standard', 'free/reduced'}\n",
            "test preparation course\n",
            "{'none', 'completed'}\n"
          ]
        }
      ]
    },
    {
      "cell_type": "markdown",
      "source": [
        "Memeriksa adakah value yang bernilai 'nol'. Karena terdeteksi nilai nol terdapat pada kolom m*ath score* yang memang berupa numerik value, maka nilai nol tidak akan menjadi gangguan."
      ],
      "metadata": {
        "id": "FSykjwI7seLx"
      }
    },
    {
      "cell_type": "code",
      "source": [
        "print((df[::] == 0).sum())\n",
        "df.describe()"
      ],
      "metadata": {
        "colab": {
          "base_uri": "https://localhost:8080/",
          "height": 456
        },
        "id": "F0cTymZQseiG",
        "outputId": "53e5e0a1-2a7b-4975-cdc4-c827c6111011"
      },
      "execution_count": 18,
      "outputs": [
        {
          "output_type": "stream",
          "name": "stdout",
          "text": [
            "gender                         0\n",
            "race/ethnicity                 0\n",
            "parental level of education    0\n",
            "lunch                          0\n",
            "test preparation course        0\n",
            "math score                     0\n",
            "reading score                  0\n",
            "writing score                  0\n",
            "dtype: int64\n"
          ]
        },
        {
          "output_type": "execute_result",
          "data": {
            "text/plain": [
              "       math score  reading score  writing score\n",
              "count  988.000000     988.000000     988.000000\n",
              "mean    66.625506      69.640688      68.566802\n",
              "std     14.409394      14.016760      14.525267\n",
              "min     27.000000      29.000000      27.000000\n",
              "25%     57.000000      60.000000      58.000000\n",
              "50%     66.000000      70.000000      69.000000\n",
              "75%     77.000000      80.000000      79.000000\n",
              "max    100.000000     100.000000     100.000000"
            ],
            "text/html": [
              "\n",
              "  <div id=\"df-62197899-b56c-4acf-88a3-74c4d08b3e37\">\n",
              "    <div class=\"colab-df-container\">\n",
              "      <div>\n",
              "<style scoped>\n",
              "    .dataframe tbody tr th:only-of-type {\n",
              "        vertical-align: middle;\n",
              "    }\n",
              "\n",
              "    .dataframe tbody tr th {\n",
              "        vertical-align: top;\n",
              "    }\n",
              "\n",
              "    .dataframe thead th {\n",
              "        text-align: right;\n",
              "    }\n",
              "</style>\n",
              "<table border=\"1\" class=\"dataframe\">\n",
              "  <thead>\n",
              "    <tr style=\"text-align: right;\">\n",
              "      <th></th>\n",
              "      <th>math score</th>\n",
              "      <th>reading score</th>\n",
              "      <th>writing score</th>\n",
              "    </tr>\n",
              "  </thead>\n",
              "  <tbody>\n",
              "    <tr>\n",
              "      <th>count</th>\n",
              "      <td>988.000000</td>\n",
              "      <td>988.000000</td>\n",
              "      <td>988.000000</td>\n",
              "    </tr>\n",
              "    <tr>\n",
              "      <th>mean</th>\n",
              "      <td>66.625506</td>\n",
              "      <td>69.640688</td>\n",
              "      <td>68.566802</td>\n",
              "    </tr>\n",
              "    <tr>\n",
              "      <th>std</th>\n",
              "      <td>14.409394</td>\n",
              "      <td>14.016760</td>\n",
              "      <td>14.525267</td>\n",
              "    </tr>\n",
              "    <tr>\n",
              "      <th>min</th>\n",
              "      <td>27.000000</td>\n",
              "      <td>29.000000</td>\n",
              "      <td>27.000000</td>\n",
              "    </tr>\n",
              "    <tr>\n",
              "      <th>25%</th>\n",
              "      <td>57.000000</td>\n",
              "      <td>60.000000</td>\n",
              "      <td>58.000000</td>\n",
              "    </tr>\n",
              "    <tr>\n",
              "      <th>50%</th>\n",
              "      <td>66.000000</td>\n",
              "      <td>70.000000</td>\n",
              "      <td>69.000000</td>\n",
              "    </tr>\n",
              "    <tr>\n",
              "      <th>75%</th>\n",
              "      <td>77.000000</td>\n",
              "      <td>80.000000</td>\n",
              "      <td>79.000000</td>\n",
              "    </tr>\n",
              "    <tr>\n",
              "      <th>max</th>\n",
              "      <td>100.000000</td>\n",
              "      <td>100.000000</td>\n",
              "      <td>100.000000</td>\n",
              "    </tr>\n",
              "  </tbody>\n",
              "</table>\n",
              "</div>\n",
              "      <button class=\"colab-df-convert\" onclick=\"convertToInteractive('df-62197899-b56c-4acf-88a3-74c4d08b3e37')\"\n",
              "              title=\"Convert this dataframe to an interactive table.\"\n",
              "              style=\"display:none;\">\n",
              "        \n",
              "  <svg xmlns=\"http://www.w3.org/2000/svg\" height=\"24px\"viewBox=\"0 0 24 24\"\n",
              "       width=\"24px\">\n",
              "    <path d=\"M0 0h24v24H0V0z\" fill=\"none\"/>\n",
              "    <path d=\"M18.56 5.44l.94 2.06.94-2.06 2.06-.94-2.06-.94-.94-2.06-.94 2.06-2.06.94zm-11 1L8.5 8.5l.94-2.06 2.06-.94-2.06-.94L8.5 2.5l-.94 2.06-2.06.94zm10 10l.94 2.06.94-2.06 2.06-.94-2.06-.94-.94-2.06-.94 2.06-2.06.94z\"/><path d=\"M17.41 7.96l-1.37-1.37c-.4-.4-.92-.59-1.43-.59-.52 0-1.04.2-1.43.59L10.3 9.45l-7.72 7.72c-.78.78-.78 2.05 0 2.83L4 21.41c.39.39.9.59 1.41.59.51 0 1.02-.2 1.41-.59l7.78-7.78 2.81-2.81c.8-.78.8-2.07 0-2.86zM5.41 20L4 18.59l7.72-7.72 1.47 1.35L5.41 20z\"/>\n",
              "  </svg>\n",
              "      </button>\n",
              "      \n",
              "  <style>\n",
              "    .colab-df-container {\n",
              "      display:flex;\n",
              "      flex-wrap:wrap;\n",
              "      gap: 12px;\n",
              "    }\n",
              "\n",
              "    .colab-df-convert {\n",
              "      background-color: #E8F0FE;\n",
              "      border: none;\n",
              "      border-radius: 50%;\n",
              "      cursor: pointer;\n",
              "      display: none;\n",
              "      fill: #1967D2;\n",
              "      height: 32px;\n",
              "      padding: 0 0 0 0;\n",
              "      width: 32px;\n",
              "    }\n",
              "\n",
              "    .colab-df-convert:hover {\n",
              "      background-color: #E2EBFA;\n",
              "      box-shadow: 0px 1px 2px rgba(60, 64, 67, 0.3), 0px 1px 3px 1px rgba(60, 64, 67, 0.15);\n",
              "      fill: #174EA6;\n",
              "    }\n",
              "\n",
              "    [theme=dark] .colab-df-convert {\n",
              "      background-color: #3B4455;\n",
              "      fill: #D2E3FC;\n",
              "    }\n",
              "\n",
              "    [theme=dark] .colab-df-convert:hover {\n",
              "      background-color: #434B5C;\n",
              "      box-shadow: 0px 1px 3px 1px rgba(0, 0, 0, 0.15);\n",
              "      filter: drop-shadow(0px 1px 2px rgba(0, 0, 0, 0.3));\n",
              "      fill: #FFFFFF;\n",
              "    }\n",
              "  </style>\n",
              "\n",
              "      <script>\n",
              "        const buttonEl =\n",
              "          document.querySelector('#df-62197899-b56c-4acf-88a3-74c4d08b3e37 button.colab-df-convert');\n",
              "        buttonEl.style.display =\n",
              "          google.colab.kernel.accessAllowed ? 'block' : 'none';\n",
              "\n",
              "        async function convertToInteractive(key) {\n",
              "          const element = document.querySelector('#df-62197899-b56c-4acf-88a3-74c4d08b3e37');\n",
              "          const dataTable =\n",
              "            await google.colab.kernel.invokeFunction('convertToInteractive',\n",
              "                                                     [key], {});\n",
              "          if (!dataTable) return;\n",
              "\n",
              "          const docLinkHtml = 'Like what you see? Visit the ' +\n",
              "            '<a target=\"_blank\" href=https://colab.research.google.com/notebooks/data_table.ipynb>data table notebook</a>'\n",
              "            + ' to learn more about interactive tables.';\n",
              "          element.innerHTML = '';\n",
              "          dataTable['output_type'] = 'display_data';\n",
              "          await google.colab.output.renderOutput(dataTable, element);\n",
              "          const docLink = document.createElement('div');\n",
              "          docLink.innerHTML = docLinkHtml;\n",
              "          element.appendChild(docLink);\n",
              "        }\n",
              "      </script>\n",
              "    </div>\n",
              "  </div>\n",
              "  "
            ]
          },
          "metadata": {},
          "execution_count": 18
        }
      ]
    },
    {
      "cell_type": "markdown",
      "source": [
        "Lakukan proses One Hot Encoder yang akan mengubah data non-numerik menjadi data nnumerik bernilai biner untuk setiap kategori valuenya. Kemudian pisahkan mana yang akan menjadi atribut dan target pada training model nantinya."
      ],
      "metadata": {
        "id": "MAspW59atmNP"
      }
    },
    {
      "cell_type": "code",
      "source": [
        "gender = pd.get_dummies(df['gender'])\n",
        "etnis = pd.get_dummies(df['race/ethnicity'])\n",
        "parent = pd.get_dummies(df['parental level of education'])\n",
        "lunch = pd.get_dummies(df['lunch'])\n",
        "prep = pd.get_dummies(df['test preparation course'])\n",
        "\n",
        "df = pd.concat([df, gender, etnis, parent, lunch, prep], axis=1)\n",
        "\n",
        "df = df.drop(['gender', 'race/ethnicity', 'parental level of education', 'lunch', 'test preparation course'], axis=1)\n",
        "\n",
        "atribut = df.copy()\n",
        "atribut = atribut.drop(['math score', 'reading score', 'writing score'], axis=1)\n",
        "\n",
        "nilai_rata = (df['math score'] + df['reading score'] + df['writing score'])/3\n",
        "target = nilai_rata.astype('int')\n",
        "atribut = atribut"
      ],
      "metadata": {
        "id": "DN1KXvEItmqI"
      },
      "execution_count": 19,
      "outputs": []
    },
    {
      "cell_type": "markdown",
      "source": [
        "Nilai rata-rata ketiga test siswa yang telah diperoleh sebelumnya diubah kembali menjadi lima prediket dari A sampai E."
      ],
      "metadata": {
        "id": "cdzK5VPnvVBP"
      }
    },
    {
      "cell_type": "code",
      "source": [
        "from re import A\n",
        "nil = []\n",
        "for i in target:\n",
        "  #print(i)\n",
        "  if i >= 90:\n",
        "    nil.append('A')\n",
        "  elif i >80 and i <89:\n",
        "    nil.append('B')\n",
        "  elif i >70 and i < 79:\n",
        "    nil.append('C')\n",
        "  elif i > 60 and i < 69:\n",
        "    nil.append('D')\n",
        "  else:\n",
        "    nil.append('E')\n",
        "print(nil)"
      ],
      "metadata": {
        "colab": {
          "base_uri": "https://localhost:8080/"
        },
        "id": "y2dMsF3auz90",
        "outputId": "ac323650-1b25-4379-84e0-2d8252b1a3e2"
      },
      "execution_count": 20,
      "outputs": [
        {
          "output_type": "stream",
          "name": "stdout",
          "text": [
            "['C', 'B', 'A', 'E', 'C', 'C', 'A', 'E', 'D', 'E', 'E', 'E', 'C', 'C', 'E', 'C', 'B', 'E', 'E', 'D', 'E', 'E', 'C', 'C', 'C', 'E', 'E', 'D', 'E', 'C', 'D', 'D', 'E', 'B', 'E', 'E', 'E', 'B', 'E', 'E', 'D', 'E', 'D', 'E', 'E', 'E', 'C', 'E', 'B', 'E', 'C', 'E', 'E', 'E', 'E', 'B', 'E', 'E', 'C', 'E', 'E', 'C', 'E', 'D', 'E', 'D', 'E', 'E', 'D', 'E', 'E', 'E', 'E', 'E', 'E', 'E', 'D', 'E', 'E', 'E', 'D', 'E', 'C', 'B', 'C', 'D', 'E', 'E', 'E', 'C', 'E', 'B', 'E', 'D', 'D', 'D', 'D', 'C', 'C', 'B', 'E', 'A', 'D', 'A', 'D', 'D', 'D', 'B', 'E', 'E', 'E', 'A', 'C', 'E', 'E', 'E', 'D', 'B', 'A', 'A', 'E', 'C', 'E', 'E', 'C', 'E', 'E', 'B', 'E', 'C', 'E', 'C', 'E', 'E', 'E', 'D', 'D', 'C', 'D', 'E', 'E', 'E', 'B', 'E', 'C', 'A', 'D', 'E', 'D', 'E', 'D', 'B', 'C', 'E', 'C', 'D', 'C', 'B', 'E', 'E', 'B', 'A', 'E', 'E', 'C', 'E', 'C', 'B', 'B', 'D', 'E', 'B', 'E', 'C', 'D', 'A', 'D', 'E', 'E', 'D', 'E', 'D', 'C', 'D', 'E', 'B', 'D', 'E', 'D', 'D', 'E', 'E', 'D', 'E', 'E', 'C', 'E', 'C', 'C', 'D', 'E', 'C', 'D', 'E', 'C', 'D', 'E', 'E', 'E', 'B', 'E', 'B', 'E', 'C', 'E', 'D', 'B', 'E', 'E', 'D', 'E', 'C', 'E', 'D', 'A', 'D', 'E', 'C', 'B', 'B', 'C', 'D', 'D', 'E', 'B', 'E', 'B', 'E', 'E', 'C', 'C', 'E', 'D', 'D', 'E', 'E', 'E', 'D', 'C', 'E', 'D', 'D', 'C', 'C', 'C', 'C', 'C', 'E', 'A', 'C', 'E', 'C', 'C', 'A', 'C', 'D', 'E', 'E', 'D', 'B', 'C', 'A', 'D', 'C', 'D', 'E', 'E', 'C', 'C', 'E', 'B', 'E', 'E', 'E', 'C', 'C', 'C', 'E', 'C', 'C', 'D', 'E', 'C', 'E', 'B', 'E', 'E', 'C', 'C', 'C', 'D', 'E', 'E', 'D', 'E', 'C', 'D', 'D', 'D', 'D', 'D', 'B', 'C', 'D', 'D', 'C', 'E', 'C', 'E', 'E', 'B', 'D', 'C', 'E', 'D', 'E', 'E', 'B', 'A', 'D', 'C', 'E', 'E', 'E', 'D', 'C', 'D', 'C', 'C', 'E', 'B', 'C', 'E', 'D', 'E', 'C', 'E', 'D', 'D', 'D', 'E', 'E', 'B', 'E', 'B', 'E', 'E', 'E', 'E', 'E', 'D', 'E', 'E', 'C', 'D', 'C', 'A', 'D', 'E', 'B', 'A', 'C', 'D', 'B', 'A', 'C', 'E', 'E', 'C', 'E', 'D', 'D', 'C', 'D', 'C', 'E', 'E', 'C', 'E', 'E', 'E', 'D', 'E', 'E', 'E', 'E', 'A', 'E', 'D', 'D', 'E', 'E', 'B', 'C', 'B', 'D', 'D', 'D', 'C', 'C', 'C', 'D', 'E', 'E', 'E', 'E', 'C', 'E', 'D', 'B', 'D', 'E', 'D', 'D', 'D', 'E', 'E', 'D', 'E', 'E', 'C', 'E', 'B', 'C', 'E', 'D', 'C', 'C', 'C', 'D', 'B', 'E', 'C', 'C', 'A', 'C', 'E', 'E', 'E', 'B', 'E', 'A', 'D', 'E', 'E', 'C', 'B', 'D', 'B', 'D', 'B', 'E', 'B', 'D', 'E', 'D', 'A', 'C', 'D', 'C', 'D', 'C', 'E', 'E', 'D', 'E', 'E', 'C', 'E', 'E', 'E', 'B', 'C', 'D', 'B', 'B', 'D', 'D', 'E', 'C', 'D', 'C', 'C', 'A', 'E', 'A', 'E', 'B', 'D', 'E', 'C', 'B', 'C', 'E', 'E', 'E', 'E', 'B', 'B', 'C', 'C', 'C', 'E', 'B', 'D', 'E', 'E', 'D', 'E', 'E', 'E', 'D', 'E', 'E', 'E', 'B', 'E', 'C', 'E', 'E', 'C', 'A', 'E', 'E', 'E', 'B', 'D', 'E', 'A', 'D', 'D', 'C', 'C', 'B', 'E', 'D', 'E', 'E', 'D', 'D', 'D', 'D', 'C', 'E', 'A', 'C', 'E', 'E', 'A', 'E', 'E', 'D', 'C', 'A', 'E', 'E', 'C', 'E', 'E', 'B', 'E', 'E', 'A', 'C', 'C', 'C', 'C', 'C', 'D', 'E', 'D', 'E', 'E', 'D', 'D', 'C', 'A', 'E', 'E', 'C', 'C', 'E', 'E', 'C', 'E', 'B', 'E', 'B', 'E', 'D', 'D', 'D', 'D', 'A', 'C', 'E', 'D', 'E', 'B', 'B', 'D', 'E', 'E', 'E', 'A', 'E', 'A', 'D', 'E', 'E', 'E', 'D', 'D', 'C', 'B', 'B', 'E', 'C', 'B', 'C', 'C', 'E', 'B', 'C', 'C', 'D', 'C', 'D', 'D', 'E', 'C', 'E', 'C', 'E', 'E', 'C', 'D', 'E', 'D', 'E', 'B', 'C', 'D', 'D', 'D', 'D', 'E', 'E', 'B', 'E', 'C', 'E', 'E', 'C', 'C', 'C', 'E', 'C', 'C', 'C', 'D', 'C', 'D', 'E', 'E', 'D', 'A', 'C', 'C', 'E', 'B', 'E', 'C', 'C', 'C', 'E', 'B', 'B', 'D', 'C', 'D', 'E', 'D', 'B', 'D', 'D', 'D', 'E', 'E', 'B', 'E', 'E', 'B', 'A', 'B', 'D', 'B', 'C', 'A', 'C', 'B', 'D', 'E', 'B', 'E', 'E', 'C', 'C', 'E', 'B', 'E', 'C', 'E', 'A', 'E', 'E', 'D', 'B', 'D', 'C', 'E', 'C', 'E', 'B', 'D', 'E', 'C', 'C', 'D', 'E', 'B', 'E', 'D', 'C', 'B', 'E', 'A', 'E', 'E', 'E', 'C', 'D', 'E', 'B', 'D', 'E', 'C', 'E', 'D', 'C', 'E', 'E', 'C', 'D', 'C', 'D', 'E', 'E', 'E', 'C', 'B', 'E', 'B', 'B', 'E', 'B', 'E', 'C', 'D', 'E', 'E', 'D', 'E', 'B', 'E', 'D', 'E', 'C', 'D', 'E', 'E', 'C', 'A', 'B', 'C', 'C', 'C', 'E', 'C', 'E', 'E', 'E', 'D', 'B', 'C', 'E', 'E', 'E', 'D', 'B', 'E', 'B', 'E', 'E', 'E', 'D', 'D', 'E', 'C', 'E', 'E', 'B', 'E', 'B', 'E', 'D', 'D', 'C', 'E', 'C', 'E', 'E', 'C', 'E', 'B', 'B', 'E', 'D', 'C', 'D', 'D', 'B', 'E', 'E', 'A', 'E', 'C', 'E', 'C', 'E', 'B', 'E', 'C', 'A', 'B', 'E', 'E', 'C', 'E', 'E', 'C', 'B', 'B', 'E', 'E', 'B', 'E', 'E', 'C', 'D', 'E', 'E', 'E', 'E', 'C', 'A', 'D', 'E', 'E', 'B', 'B', 'D', 'E', 'D', 'E', 'E', 'C', 'D', 'C', 'B', 'C', 'E', 'A', 'C', 'E', 'E', 'B', 'C', 'D', 'E', 'C', 'E', 'E', 'E', 'D', 'A', 'E', 'C', 'A', 'D', 'E', 'D', 'D', 'C', 'D', 'E', 'D', 'E', 'E', 'E', 'E', 'D', 'C', 'A', 'D', 'E', 'E', 'B', 'C', 'E', 'B', 'E', 'D', 'D', 'E', 'B', 'E', 'E', 'D', 'E', 'C', 'C', 'E', 'D', 'D', 'B', 'A', 'E', 'C', 'E', 'E', 'A', 'C', 'D', 'D', 'D', 'D', 'E', 'E', 'A', 'C', 'E', 'E', 'D', 'C', 'E', 'D', 'E', 'A', 'E', 'B', 'B', 'C', 'E', 'E', 'C', 'E', 'C', 'E', 'C', 'E', 'E', 'D', 'A', 'E', 'D', 'C', 'B']\n"
          ]
        }
      ]
    },
    {
      "cell_type": "markdown",
      "source": [
        "Nilai yang telah berupa prediket tadi diubah lagi menjadi data frame supaya bisa dilakukan proses one hot encoder dan menghasilak seperti berikut."
      ],
      "metadata": {
        "id": "IH93JMtdwTBS"
      }
    },
    {
      "cell_type": "code",
      "source": [
        "lin = pd.DataFrame(nil, columns=['nilai'],)\n",
        "nilai = pd.get_dummies(lin['nilai'])\n",
        "print(nilai)"
      ],
      "metadata": {
        "colab": {
          "base_uri": "https://localhost:8080/"
        },
        "id": "gccsEXyMwTdS",
        "outputId": "553dd862-abd2-43ed-ee3c-08169ff62c79"
      },
      "execution_count": 21,
      "outputs": [
        {
          "output_type": "stream",
          "name": "stdout",
          "text": [
            "     A  B  C  D  E\n",
            "0    0  0  1  0  0\n",
            "1    0  1  0  0  0\n",
            "2    1  0  0  0  0\n",
            "3    0  0  0  0  1\n",
            "4    0  0  1  0  0\n",
            "..  .. .. .. .. ..\n",
            "983  1  0  0  0  0\n",
            "984  0  0  0  0  1\n",
            "985  0  0  0  1  0\n",
            "986  0  0  1  0  0\n",
            "987  0  1  0  0  0\n",
            "\n",
            "[988 rows x 5 columns]\n"
          ]
        }
      ]
    },
    {
      "cell_type": "markdown",
      "source": [
        "Bagi data menjadi data training dan data test."
      ],
      "metadata": {
        "id": "4yO553q5wztR"
      }
    },
    {
      "cell_type": "code",
      "source": [
        "from sklearn.model_selection import train_test_split\n",
        "x_train, x_test, y_train, y_test = train_test_split(atribut, nilai, test_size=0.2, random_state=42)"
      ],
      "metadata": {
        "id": "8K9TecHCw0Np"
      },
      "execution_count": 22,
      "outputs": []
    },
    {
      "cell_type": "markdown",
      "source": [
        "## **Modelling**"
      ],
      "metadata": {
        "id": "G9NYLhqNxaU0"
      }
    },
    {
      "cell_type": "markdown",
      "source": [
        "Model berupa neural network empat layer dengan 17 input dan 5 output. Optimizer yang digunakan *sgd* dan metrik *accuracy*"
      ],
      "metadata": {
        "id": "bHy52AbSyA0-"
      }
    },
    {
      "cell_type": "code",
      "source": [
        "model = Sequential([    \n",
        "                    Dense(17, activation='relu', input_shape=(17,)),    \n",
        "                    Dense(13, activation='relu'),\n",
        "                    Dense(9, activation='relu'),    \n",
        "                    Dense(5, activation='softmax'),])\n",
        "\n",
        "model.compile(optimizer='sgd', loss='mean_squared_error', metrics=['accuracy'])"
      ],
      "metadata": {
        "id": "K9t3tiAQxas_"
      },
      "execution_count": 23,
      "outputs": []
    },
    {
      "cell_type": "markdown",
      "source": [
        "Proses training dengan data train dan validation menggunakan data test."
      ],
      "metadata": {
        "id": "ru6ap9EnyaJu"
      }
    },
    {
      "cell_type": "code",
      "source": [
        "history = model.fit(x_train, y_train, epochs=100, batch_size=64, validation_data=(x_test, y_test))"
      ],
      "metadata": {
        "colab": {
          "base_uri": "https://localhost:8080/"
        },
        "id": "aNYxg3Asx5Jz",
        "outputId": "01bd1c10-820c-46e4-d5fc-6dd03cc4605a"
      },
      "execution_count": 24,
      "outputs": [
        {
          "output_type": "stream",
          "name": "stdout",
          "text": [
            "Epoch 1/100\n",
            "13/13 [==============================] - 1s 19ms/step - loss: 0.1593 - accuracy: 0.2152 - val_loss: 0.1584 - val_accuracy: 0.2273\n",
            "Epoch 2/100\n",
            "13/13 [==============================] - 0s 4ms/step - loss: 0.1592 - accuracy: 0.2266 - val_loss: 0.1582 - val_accuracy: 0.2273\n",
            "Epoch 3/100\n",
            "13/13 [==============================] - 0s 4ms/step - loss: 0.1590 - accuracy: 0.2380 - val_loss: 0.1580 - val_accuracy: 0.2475\n",
            "Epoch 4/100\n",
            "13/13 [==============================] - 0s 5ms/step - loss: 0.1588 - accuracy: 0.2430 - val_loss: 0.1577 - val_accuracy: 0.2576\n",
            "Epoch 5/100\n",
            "13/13 [==============================] - 0s 5ms/step - loss: 0.1587 - accuracy: 0.2468 - val_loss: 0.1575 - val_accuracy: 0.2677\n",
            "Epoch 6/100\n",
            "13/13 [==============================] - 0s 5ms/step - loss: 0.1585 - accuracy: 0.2519 - val_loss: 0.1573 - val_accuracy: 0.2879\n",
            "Epoch 7/100\n",
            "13/13 [==============================] - 0s 5ms/step - loss: 0.1584 - accuracy: 0.2557 - val_loss: 0.1571 - val_accuracy: 0.3030\n",
            "Epoch 8/100\n",
            "13/13 [==============================] - 0s 5ms/step - loss: 0.1582 - accuracy: 0.2595 - val_loss: 0.1569 - val_accuracy: 0.3030\n",
            "Epoch 9/100\n",
            "13/13 [==============================] - 0s 4ms/step - loss: 0.1581 - accuracy: 0.2671 - val_loss: 0.1566 - val_accuracy: 0.3283\n",
            "Epoch 10/100\n",
            "13/13 [==============================] - 0s 4ms/step - loss: 0.1579 - accuracy: 0.2734 - val_loss: 0.1564 - val_accuracy: 0.3384\n",
            "Epoch 11/100\n",
            "13/13 [==============================] - 0s 4ms/step - loss: 0.1578 - accuracy: 0.2759 - val_loss: 0.1562 - val_accuracy: 0.3535\n",
            "Epoch 12/100\n",
            "13/13 [==============================] - 0s 5ms/step - loss: 0.1576 - accuracy: 0.2734 - val_loss: 0.1560 - val_accuracy: 0.3636\n",
            "Epoch 13/100\n",
            "13/13 [==============================] - 0s 5ms/step - loss: 0.1575 - accuracy: 0.2772 - val_loss: 0.1558 - val_accuracy: 0.3687\n",
            "Epoch 14/100\n",
            "13/13 [==============================] - 0s 3ms/step - loss: 0.1573 - accuracy: 0.2772 - val_loss: 0.1556 - val_accuracy: 0.3737\n",
            "Epoch 15/100\n",
            "13/13 [==============================] - 0s 5ms/step - loss: 0.1572 - accuracy: 0.2886 - val_loss: 0.1554 - val_accuracy: 0.3737\n",
            "Epoch 16/100\n",
            "13/13 [==============================] - 0s 6ms/step - loss: 0.1571 - accuracy: 0.2937 - val_loss: 0.1552 - val_accuracy: 0.3889\n",
            "Epoch 17/100\n",
            "13/13 [==============================] - 0s 3ms/step - loss: 0.1569 - accuracy: 0.3038 - val_loss: 0.1550 - val_accuracy: 0.3939\n",
            "Epoch 18/100\n",
            "13/13 [==============================] - 0s 5ms/step - loss: 0.1568 - accuracy: 0.3051 - val_loss: 0.1548 - val_accuracy: 0.4141\n",
            "Epoch 19/100\n",
            "13/13 [==============================] - 0s 3ms/step - loss: 0.1567 - accuracy: 0.3127 - val_loss: 0.1546 - val_accuracy: 0.4091\n",
            "Epoch 20/100\n",
            "13/13 [==============================] - 0s 5ms/step - loss: 0.1565 - accuracy: 0.3152 - val_loss: 0.1544 - val_accuracy: 0.4192\n",
            "Epoch 21/100\n",
            "13/13 [==============================] - 0s 4ms/step - loss: 0.1564 - accuracy: 0.3203 - val_loss: 0.1543 - val_accuracy: 0.4141\n",
            "Epoch 22/100\n",
            "13/13 [==============================] - 0s 5ms/step - loss: 0.1563 - accuracy: 0.3266 - val_loss: 0.1541 - val_accuracy: 0.4444\n",
            "Epoch 23/100\n",
            "13/13 [==============================] - 0s 4ms/step - loss: 0.1562 - accuracy: 0.3354 - val_loss: 0.1539 - val_accuracy: 0.4545\n",
            "Epoch 24/100\n",
            "13/13 [==============================] - 0s 3ms/step - loss: 0.1560 - accuracy: 0.3405 - val_loss: 0.1537 - val_accuracy: 0.4646\n",
            "Epoch 25/100\n",
            "13/13 [==============================] - 0s 4ms/step - loss: 0.1559 - accuracy: 0.3519 - val_loss: 0.1535 - val_accuracy: 0.4747\n",
            "Epoch 26/100\n",
            "13/13 [==============================] - 0s 5ms/step - loss: 0.1558 - accuracy: 0.3544 - val_loss: 0.1533 - val_accuracy: 0.4747\n",
            "Epoch 27/100\n",
            "13/13 [==============================] - 0s 5ms/step - loss: 0.1557 - accuracy: 0.3532 - val_loss: 0.1531 - val_accuracy: 0.4646\n",
            "Epoch 28/100\n",
            "13/13 [==============================] - 0s 4ms/step - loss: 0.1556 - accuracy: 0.3557 - val_loss: 0.1530 - val_accuracy: 0.4646\n",
            "Epoch 29/100\n",
            "13/13 [==============================] - 0s 4ms/step - loss: 0.1554 - accuracy: 0.3557 - val_loss: 0.1528 - val_accuracy: 0.4596\n",
            "Epoch 30/100\n",
            "13/13 [==============================] - 0s 3ms/step - loss: 0.1553 - accuracy: 0.3595 - val_loss: 0.1526 - val_accuracy: 0.4697\n",
            "Epoch 31/100\n",
            "13/13 [==============================] - 0s 5ms/step - loss: 0.1552 - accuracy: 0.3620 - val_loss: 0.1524 - val_accuracy: 0.4747\n",
            "Epoch 32/100\n",
            "13/13 [==============================] - 0s 5ms/step - loss: 0.1551 - accuracy: 0.3633 - val_loss: 0.1523 - val_accuracy: 0.4697\n",
            "Epoch 33/100\n",
            "13/13 [==============================] - 0s 5ms/step - loss: 0.1550 - accuracy: 0.3671 - val_loss: 0.1521 - val_accuracy: 0.4747\n",
            "Epoch 34/100\n",
            "13/13 [==============================] - 0s 4ms/step - loss: 0.1549 - accuracy: 0.3722 - val_loss: 0.1519 - val_accuracy: 0.4747\n",
            "Epoch 35/100\n",
            "13/13 [==============================] - 0s 4ms/step - loss: 0.1548 - accuracy: 0.3722 - val_loss: 0.1518 - val_accuracy: 0.4747\n",
            "Epoch 36/100\n",
            "13/13 [==============================] - 0s 5ms/step - loss: 0.1547 - accuracy: 0.3722 - val_loss: 0.1516 - val_accuracy: 0.4747\n",
            "Epoch 37/100\n",
            "13/13 [==============================] - 0s 5ms/step - loss: 0.1546 - accuracy: 0.3722 - val_loss: 0.1514 - val_accuracy: 0.4747\n",
            "Epoch 38/100\n",
            "13/13 [==============================] - 0s 5ms/step - loss: 0.1545 - accuracy: 0.3709 - val_loss: 0.1513 - val_accuracy: 0.4798\n",
            "Epoch 39/100\n",
            "13/13 [==============================] - 0s 5ms/step - loss: 0.1544 - accuracy: 0.3709 - val_loss: 0.1511 - val_accuracy: 0.4798\n",
            "Epoch 40/100\n",
            "13/13 [==============================] - 0s 3ms/step - loss: 0.1543 - accuracy: 0.3709 - val_loss: 0.1510 - val_accuracy: 0.4798\n",
            "Epoch 41/100\n",
            "13/13 [==============================] - 0s 5ms/step - loss: 0.1542 - accuracy: 0.3722 - val_loss: 0.1508 - val_accuracy: 0.4798\n",
            "Epoch 42/100\n",
            "13/13 [==============================] - 0s 4ms/step - loss: 0.1540 - accuracy: 0.3734 - val_loss: 0.1507 - val_accuracy: 0.4798\n",
            "Epoch 43/100\n",
            "13/13 [==============================] - 0s 4ms/step - loss: 0.1540 - accuracy: 0.3734 - val_loss: 0.1505 - val_accuracy: 0.4798\n",
            "Epoch 44/100\n",
            "13/13 [==============================] - 0s 5ms/step - loss: 0.1539 - accuracy: 0.3747 - val_loss: 0.1504 - val_accuracy: 0.4798\n",
            "Epoch 45/100\n",
            "13/13 [==============================] - 0s 5ms/step - loss: 0.1538 - accuracy: 0.3759 - val_loss: 0.1502 - val_accuracy: 0.4798\n",
            "Epoch 46/100\n",
            "13/13 [==============================] - 0s 4ms/step - loss: 0.1537 - accuracy: 0.3772 - val_loss: 0.1501 - val_accuracy: 0.4798\n",
            "Epoch 47/100\n",
            "13/13 [==============================] - 0s 4ms/step - loss: 0.1536 - accuracy: 0.3772 - val_loss: 0.1499 - val_accuracy: 0.4798\n",
            "Epoch 48/100\n",
            "13/13 [==============================] - 0s 3ms/step - loss: 0.1535 - accuracy: 0.3810 - val_loss: 0.1498 - val_accuracy: 0.4949\n",
            "Epoch 49/100\n",
            "13/13 [==============================] - 0s 4ms/step - loss: 0.1534 - accuracy: 0.3823 - val_loss: 0.1496 - val_accuracy: 0.4949\n",
            "Epoch 50/100\n",
            "13/13 [==============================] - 0s 4ms/step - loss: 0.1533 - accuracy: 0.3835 - val_loss: 0.1495 - val_accuracy: 0.4949\n",
            "Epoch 51/100\n",
            "13/13 [==============================] - 0s 5ms/step - loss: 0.1532 - accuracy: 0.3835 - val_loss: 0.1493 - val_accuracy: 0.4899\n",
            "Epoch 52/100\n",
            "13/13 [==============================] - 0s 4ms/step - loss: 0.1531 - accuracy: 0.3835 - val_loss: 0.1492 - val_accuracy: 0.4899\n",
            "Epoch 53/100\n",
            "13/13 [==============================] - 0s 5ms/step - loss: 0.1530 - accuracy: 0.3835 - val_loss: 0.1490 - val_accuracy: 0.4899\n",
            "Epoch 54/100\n",
            "13/13 [==============================] - 0s 4ms/step - loss: 0.1529 - accuracy: 0.3835 - val_loss: 0.1489 - val_accuracy: 0.4899\n",
            "Epoch 55/100\n",
            "13/13 [==============================] - 0s 3ms/step - loss: 0.1528 - accuracy: 0.3835 - val_loss: 0.1488 - val_accuracy: 0.4899\n",
            "Epoch 56/100\n",
            "13/13 [==============================] - 0s 4ms/step - loss: 0.1528 - accuracy: 0.3835 - val_loss: 0.1486 - val_accuracy: 0.4899\n",
            "Epoch 57/100\n",
            "13/13 [==============================] - 0s 5ms/step - loss: 0.1527 - accuracy: 0.3823 - val_loss: 0.1485 - val_accuracy: 0.4899\n",
            "Epoch 58/100\n",
            "13/13 [==============================] - 0s 4ms/step - loss: 0.1526 - accuracy: 0.3823 - val_loss: 0.1483 - val_accuracy: 0.4899\n",
            "Epoch 59/100\n",
            "13/13 [==============================] - 0s 5ms/step - loss: 0.1525 - accuracy: 0.3823 - val_loss: 0.1482 - val_accuracy: 0.4899\n",
            "Epoch 60/100\n",
            "13/13 [==============================] - 0s 5ms/step - loss: 0.1524 - accuracy: 0.3823 - val_loss: 0.1481 - val_accuracy: 0.4899\n",
            "Epoch 61/100\n",
            "13/13 [==============================] - 0s 3ms/step - loss: 0.1523 - accuracy: 0.3823 - val_loss: 0.1479 - val_accuracy: 0.4899\n",
            "Epoch 62/100\n",
            "13/13 [==============================] - 0s 4ms/step - loss: 0.1522 - accuracy: 0.3823 - val_loss: 0.1478 - val_accuracy: 0.4899\n",
            "Epoch 63/100\n",
            "13/13 [==============================] - 0s 4ms/step - loss: 0.1521 - accuracy: 0.3823 - val_loss: 0.1476 - val_accuracy: 0.4899\n",
            "Epoch 64/100\n",
            "13/13 [==============================] - 0s 4ms/step - loss: 0.1520 - accuracy: 0.3823 - val_loss: 0.1475 - val_accuracy: 0.4899\n",
            "Epoch 65/100\n",
            "13/13 [==============================] - 0s 4ms/step - loss: 0.1520 - accuracy: 0.3823 - val_loss: 0.1474 - val_accuracy: 0.4899\n",
            "Epoch 66/100\n",
            "13/13 [==============================] - 0s 4ms/step - loss: 0.1519 - accuracy: 0.3823 - val_loss: 0.1472 - val_accuracy: 0.4899\n",
            "Epoch 67/100\n",
            "13/13 [==============================] - 0s 5ms/step - loss: 0.1518 - accuracy: 0.3823 - val_loss: 0.1471 - val_accuracy: 0.4899\n",
            "Epoch 68/100\n",
            "13/13 [==============================] - 0s 4ms/step - loss: 0.1517 - accuracy: 0.3823 - val_loss: 0.1469 - val_accuracy: 0.4899\n",
            "Epoch 69/100\n",
            "13/13 [==============================] - 0s 5ms/step - loss: 0.1516 - accuracy: 0.3823 - val_loss: 0.1468 - val_accuracy: 0.4899\n",
            "Epoch 70/100\n",
            "13/13 [==============================] - 0s 5ms/step - loss: 0.1515 - accuracy: 0.3823 - val_loss: 0.1467 - val_accuracy: 0.4899\n",
            "Epoch 71/100\n",
            "13/13 [==============================] - 0s 3ms/step - loss: 0.1515 - accuracy: 0.3823 - val_loss: 0.1465 - val_accuracy: 0.4899\n",
            "Epoch 72/100\n",
            "13/13 [==============================] - 0s 5ms/step - loss: 0.1514 - accuracy: 0.3823 - val_loss: 0.1464 - val_accuracy: 0.4899\n",
            "Epoch 73/100\n",
            "13/13 [==============================] - 0s 5ms/step - loss: 0.1513 - accuracy: 0.3823 - val_loss: 0.1463 - val_accuracy: 0.4899\n",
            "Epoch 74/100\n",
            "13/13 [==============================] - 0s 5ms/step - loss: 0.1512 - accuracy: 0.3848 - val_loss: 0.1462 - val_accuracy: 0.4848\n",
            "Epoch 75/100\n",
            "13/13 [==============================] - 0s 5ms/step - loss: 0.1512 - accuracy: 0.3848 - val_loss: 0.1461 - val_accuracy: 0.4848\n",
            "Epoch 76/100\n",
            "13/13 [==============================] - 0s 5ms/step - loss: 0.1511 - accuracy: 0.3848 - val_loss: 0.1459 - val_accuracy: 0.4848\n",
            "Epoch 77/100\n",
            "13/13 [==============================] - 0s 5ms/step - loss: 0.1510 - accuracy: 0.3848 - val_loss: 0.1458 - val_accuracy: 0.4848\n",
            "Epoch 78/100\n",
            "13/13 [==============================] - 0s 5ms/step - loss: 0.1510 - accuracy: 0.3848 - val_loss: 0.1457 - val_accuracy: 0.4848\n",
            "Epoch 79/100\n",
            "13/13 [==============================] - 0s 4ms/step - loss: 0.1509 - accuracy: 0.3848 - val_loss: 0.1456 - val_accuracy: 0.4848\n",
            "Epoch 80/100\n",
            "13/13 [==============================] - 0s 3ms/step - loss: 0.1508 - accuracy: 0.3848 - val_loss: 0.1455 - val_accuracy: 0.4848\n",
            "Epoch 81/100\n",
            "13/13 [==============================] - 0s 4ms/step - loss: 0.1507 - accuracy: 0.3848 - val_loss: 0.1453 - val_accuracy: 0.4848\n",
            "Epoch 82/100\n",
            "13/13 [==============================] - 0s 4ms/step - loss: 0.1507 - accuracy: 0.3848 - val_loss: 0.1452 - val_accuracy: 0.4848\n",
            "Epoch 83/100\n",
            "13/13 [==============================] - 0s 5ms/step - loss: 0.1506 - accuracy: 0.3848 - val_loss: 0.1451 - val_accuracy: 0.4848\n",
            "Epoch 84/100\n",
            "13/13 [==============================] - 0s 6ms/step - loss: 0.1505 - accuracy: 0.3848 - val_loss: 0.1450 - val_accuracy: 0.4848\n",
            "Epoch 85/100\n",
            "13/13 [==============================] - 0s 3ms/step - loss: 0.1505 - accuracy: 0.3848 - val_loss: 0.1449 - val_accuracy: 0.4848\n",
            "Epoch 86/100\n",
            "13/13 [==============================] - 0s 4ms/step - loss: 0.1504 - accuracy: 0.3848 - val_loss: 0.1448 - val_accuracy: 0.4848\n",
            "Epoch 87/100\n",
            "13/13 [==============================] - 0s 3ms/step - loss: 0.1504 - accuracy: 0.3848 - val_loss: 0.1447 - val_accuracy: 0.4848\n",
            "Epoch 88/100\n",
            "13/13 [==============================] - 0s 3ms/step - loss: 0.1503 - accuracy: 0.3848 - val_loss: 0.1445 - val_accuracy: 0.4848\n",
            "Epoch 89/100\n",
            "13/13 [==============================] - 0s 3ms/step - loss: 0.1502 - accuracy: 0.3848 - val_loss: 0.1445 - val_accuracy: 0.4848\n",
            "Epoch 90/100\n",
            "13/13 [==============================] - 0s 3ms/step - loss: 0.1502 - accuracy: 0.3848 - val_loss: 0.1444 - val_accuracy: 0.4848\n",
            "Epoch 91/100\n",
            "13/13 [==============================] - 0s 4ms/step - loss: 0.1501 - accuracy: 0.3848 - val_loss: 0.1443 - val_accuracy: 0.4848\n",
            "Epoch 92/100\n",
            "13/13 [==============================] - 0s 5ms/step - loss: 0.1501 - accuracy: 0.3848 - val_loss: 0.1442 - val_accuracy: 0.4848\n",
            "Epoch 93/100\n",
            "13/13 [==============================] - 0s 4ms/step - loss: 0.1500 - accuracy: 0.3848 - val_loss: 0.1440 - val_accuracy: 0.4848\n",
            "Epoch 94/100\n",
            "13/13 [==============================] - 0s 3ms/step - loss: 0.1500 - accuracy: 0.3848 - val_loss: 0.1440 - val_accuracy: 0.4848\n",
            "Epoch 95/100\n",
            "13/13 [==============================] - 0s 3ms/step - loss: 0.1499 - accuracy: 0.3848 - val_loss: 0.1439 - val_accuracy: 0.4848\n",
            "Epoch 96/100\n",
            "13/13 [==============================] - 0s 5ms/step - loss: 0.1499 - accuracy: 0.3848 - val_loss: 0.1438 - val_accuracy: 0.4848\n",
            "Epoch 97/100\n",
            "13/13 [==============================] - 0s 5ms/step - loss: 0.1498 - accuracy: 0.3848 - val_loss: 0.1437 - val_accuracy: 0.4848\n",
            "Epoch 98/100\n",
            "13/13 [==============================] - 0s 4ms/step - loss: 0.1498 - accuracy: 0.3848 - val_loss: 0.1436 - val_accuracy: 0.4848\n",
            "Epoch 99/100\n",
            "13/13 [==============================] - 0s 5ms/step - loss: 0.1497 - accuracy: 0.3848 - val_loss: 0.1435 - val_accuracy: 0.4848\n",
            "Epoch 100/100\n",
            "13/13 [==============================] - 0s 4ms/step - loss: 0.1497 - accuracy: 0.3848 - val_loss: 0.1434 - val_accuracy: 0.4848\n"
          ]
        }
      ]
    },
    {
      "cell_type": "markdown",
      "source": [
        "Menampilkan accuracy dan val_accuracy secara visual"
      ],
      "metadata": {
        "id": "Hwjmm6Jf1yRs"
      }
    },
    {
      "cell_type": "code",
      "source": [
        "plt.plot(history.history['accuracy'])\n",
        "plt.plot(history.history['val_accuracy'])\n",
        "plt.plot(history.history['loss'])\n",
        "plt.plot(history.history['val_loss'])\n",
        "plt.title('Accuracy | Loss')\n",
        "plt.ylabel('accuracy | loss')\n",
        "plt.xlabel('epoch')\n",
        "plt.legend(['train_Accuracy', 'test_Accuracy', 'train_loss', 'test_loss'], loc='upper left')\n",
        "plt.show()"
      ],
      "metadata": {
        "colab": {
          "base_uri": "https://localhost:8080/",
          "height": 295
        },
        "id": "_52_ycolcQ0J",
        "outputId": "f230b3a3-4d87-4f36-df03-a50ecd921f34"
      },
      "execution_count": 34,
      "outputs": [
        {
          "output_type": "display_data",
          "data": {
            "text/plain": [
              "<Figure size 432x288 with 1 Axes>"
            ],
            "image/png": "[encoded data removed]"
          },
          "metadata": {
            "needs_background": "light"
          }
        }
      ]
    }
  ]
}